{
 "cells": [
  {
   "cell_type": "markdown",
   "id": "female-press",
   "metadata": {},
   "source": [
    "## Log in to METASPACE"
   ]
  },
  {
   "cell_type": "code",
   "execution_count": 1,
   "id": "circular-synthesis",
   "metadata": {},
   "outputs": [],
   "source": [
    "import json\n",
    "from pathlib import Path\n",
    "from metaspace import SMInstance\n",
    "\n",
    "sm = SMInstance(host='https://staging.metaspace2020.eu', api_key='API_KEY')"
   ]
  },
  {
   "cell_type": "markdown",
   "id": "knowing-chemistry",
   "metadata": {},
   "source": [
    "##  Directory, Databases, Projects"
   ]
  },
  {
   "cell_type": "code",
   "execution_count": 2,
   "id": "weighted-minister",
   "metadata": {},
   "outputs": [],
   "source": [
    "directory = 'PATH_TO_DIRECTORY'  # directory, wich contains batch of imzML and ibd files\n",
    "is_public = False  ## or True\n",
    "databases = ['HMDB-v4']  # list of databases\n",
    "project_ids = []  # list of project IDs, optionaly; example ['a4b713a0-918f-11eb-b5f0-c32b469a3ef0']"
   ]
  },
  {
   "cell_type": "markdown",
   "id": "steady-sapphire",
   "metadata": {},
   "source": [
    "## Metadata"
   ]
  },
  {
   "cell_type": "code",
   "execution_count": 3,
   "id": "central-jungle",
   "metadata": {},
   "outputs": [],
   "source": [
    "metadata_filepath = Path(directory) / 'metadata.json'\n",
    "with open(metadata_filepath, 'r') as f:\n",
    "    metadata = json.loads(f.read())"
   ]
  },
  {
   "cell_type": "markdown",
   "id": "forty-stranger",
   "metadata": {},
   "source": [
    "## Launch submission"
   ]
  },
  {
   "cell_type": "code",
   "execution_count": 4,
   "id": "guided-duration",
   "metadata": {},
   "outputs": [
    {
     "name": "stdout",
     "output_type": "stream",
     "text": [
      "Uploading   1 part of 2021-03-21_HTvsAA_Hela_AAS1_s25a32_75x75_DANneg.imzML file...\n",
      "Uploading   2 part of 2021-03-21_HTvsAA_Hela_AAS1_s25a32_75x75_DANneg.imzML file...\n",
      "Uploading   1 part of 2021-03-21_HTvsAA_Hela_AAS1_s25a32_75x75_DANneg.ibd file...\n"
     ]
    }
   ],
   "source": [
    "names = set(x.stem for x in Path(directory).iterdir() if x.is_file() and x.suffix.lower() in ('.ibd', '.imzml'))\n",
    "\n",
    "for name in list(names)[:1]:\n",
    "    sm.submit_dataset(\n",
    "        directory / Path(f'{name}.imzML'),\n",
    "        directory / Path(f'{name}.ibd'),\n",
    "        name, json.dumps(metadata), is_public, databases, project_ids=project_ids\n",
    "    )"
   ]
  }
 ],
 "metadata": {
  "kernelspec": {
   "display_name": "Python 3",
   "language": "python",
   "name": "python3"
  },
  "language_info": {
   "codemirror_mode": {
    "name": "ipython",
    "version": 3
   },
   "file_extension": ".py",
   "mimetype": "text/x-python",
   "name": "python",
   "nbconvert_exporter": "python",
   "pygments_lexer": "ipython3",
   "version": "3.8.5"
  }
 },
 "nbformat": 4,
 "nbformat_minor": 5
}
